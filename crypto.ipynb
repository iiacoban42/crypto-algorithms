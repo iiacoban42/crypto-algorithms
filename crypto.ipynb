{
 "cells": [
  {
   "cell_type": "markdown",
   "id": "67921c29-c3a5-46a1-a2b4-498a4672f1fd",
   "metadata": {},
   "source": [
    "# Euclid"
   ]
  },
  {
   "cell_type": "code",
   "execution_count": 49,
   "id": "ec498703-8a6a-4d5e-982d-d31a33f03b02",
   "metadata": {},
   "outputs": [
    {
     "name": "stdout",
     "output_type": "stream",
     "text": [
      "4224 = 324 * 13 + 12\n",
      "13 = 1 * 12 + 1\n",
      "12 = 12 * 1 + 0\n",
      "gcd = 1\n"
     ]
    }
   ],
   "source": [
    "def euclid(a, b):\n",
    "    while b != 0:\n",
    "        r = a % b\n",
    "        q = a // b\n",
    "        print(str(a) + \" = \"+str(q)+\" * \" + str(b) + \" + \" +str(r))\n",
    "        a = b\n",
    "        b = r\n",
    "    return a\n",
    "\n",
    "########################################\n",
    "a = 4224\n",
    "b = 13\n",
    "gcd = euclid(a, b)\n",
    "print(\"gcd = \" + str(gcd))"
   ]
  },
  {
   "cell_type": "markdown",
   "id": "de03e329-d8c3-4ae8-b051-b9b026965fbe",
   "metadata": {},
   "source": [
    "# Extended Euclid"
   ]
  },
  {
   "cell_type": "code",
   "execution_count": 52,
   "id": "1126dcfd-d4a4-4844-9015-b9d50b5ddd45",
   "metadata": {},
   "outputs": [
    {
     "name": "stdout",
     "output_type": "stream",
     "text": [
      "| a_0 | b_0 | t_0 | t | q | r | temp | s_0 | s |\n",
      "| 531481 | 227657 | 0 | 1 | 2 | 76167 | - | 1 | 0 |\n",
      "| 227657 | 76167 | 1 | -2 | 2 | 75323 | 1 | 0 | 1 |\n",
      "| 76167 | 75323 | -2 | 5 | 1 | 844 | -2 | 1 | -2 |\n",
      "| 75323 | 844 | 5 | -7 | 89 | 207 | 3 | -2 | 3 |\n",
      "| 844 | 207 | -7 | 628 | 4 | 16 | -269 | 3 | -269 |\n",
      "| 207 | 16 | 628 | -2519 | 12 | 15 | 1079 | -269 | 1079 |\n",
      "| 16 | 15 | -2519 | 30856 | 1 | 1 | -13217 | 1079 | -13217 |\n",
      "| 15 | 1 | 30856 | -33375 | 15 | 0 | 14296 | -13217 | 14296 |\n",
      "\n",
      "r = 1; s = 14296; t = -33375\n",
      "bezout identity\n",
      "1 = 14296*531481 + -33375*227657\n"
     ]
    }
   ],
   "source": [
    "import math\n",
    "def ext_euclid(a, b):\n",
    "    a_0 = a\n",
    "    b_0 = b\n",
    "    t_0 = 0\n",
    "    t = 1\n",
    "    s_0 = 1\n",
    "    s = 0 \n",
    "    q = math.floor(a/b)\n",
    "    r = a_0 - q * b_0\n",
    "    print(\"| a_0 | b_0 | t_0 | t | q | r | temp | s_0 | s |\")\n",
    "    print(\"| \"+str(a_0)+\" | \"+str(b_0)+\" | \"+str(t_0)+\" | \"+str(t)+\" | \"+str(q)+\" | \"+str(r)+\" | - | \"+str(s_0)+\" | \"+str(s)+\" |\")\n",
    "    while r>0:\n",
    "        temp = t_0 - q*t\n",
    "        t_0 = t\n",
    "        t = temp\n",
    "        temp = s_0 - q*s\n",
    "        s_0 = s\n",
    "        s = temp\n",
    "        a_0 = b_0\n",
    "        b_0 = r\n",
    "        q = math.floor(a_0/b_0)\n",
    "        r = a_0 - q*b_0\n",
    "        print(\"| \"+str(a_0)+\" | \"+str(b_0)+\" | \"+str(t_0)+\" | \"+str(t)+\" | \"+str(q)+\" | \"+str(r)+\" | \"+str(temp)+\" | \"+str(s_0)+\" | \"+str(s)+\" |\")\n",
    "    r = b_0\n",
    "    print(\"\")\n",
    "    print(\"r = \" + str(r) + \"; s = \" + str(s) + \"; t = \" + str(t))\n",
    "    print(\"bezout identity\")\n",
    "    print( str(r) +\" = \" +str(s) + \"*\" + str(a) + \" + \" + str(t) + \"*\" + str(b))\n",
    "    \n",
    "ext_euclid(531481, 227657)\n",
    "# ax + by = gcd(a,b)\n",
    "# y = t\n",
    "# x = s"
   ]
  },
  {
   "cell_type": "markdown",
   "id": "42a085b6-7204-458c-9be9-6469717d6fb0",
   "metadata": {},
   "source": [
    "# Mod Inverse"
   ]
  },
  {
   "cell_type": "code",
   "execution_count": 47,
   "id": "02dd08f9-78f6-40bb-b2f6-76349366a8c9",
   "metadata": {},
   "outputs": [
    {
     "name": "stdout",
     "output_type": "stream",
     "text": [
      "multiplicative inverse of 13 mod 4224 = 325\n"
     ]
    }
   ],
   "source": [
    "def modInverse(a, m):\n",
    "    for x in range(1, m):\n",
    "        if (((a%m) * (x%m)) % m == 1):\n",
    "            return x\n",
    "    return -1\n",
    "\n",
    "###########################################\n",
    "m = 4224\n",
    "a = 13\n",
    "inv = modInverse(a, m)\n",
    "print(\"multiplicative inverse of \" + str(a) + \" mod \" + str(m) + \" = \"+ str(inv))\n"
   ]
  },
  {
   "cell_type": "markdown",
   "id": "7cab0b1d-140a-42a8-987a-ecf06aaabdb7",
   "metadata": {},
   "source": [
    "# Um"
   ]
  },
  {
   "cell_type": "code",
   "execution_count": 25,
   "id": "35d6ff9a-6916-4758-816a-471b303526e5",
   "metadata": {
    "tags": []
   },
   "outputs": [
    {
     "name": "stdout",
     "output_type": "stream",
     "text": [
      "[1, 2, 4, 7, 8, 11, 13, 14]\n"
     ]
    }
   ],
   "source": [
    "def euclid(a, b):\n",
    "    while b != 0:\n",
    "        r = a % b\n",
    "        q = a // b\n",
    "        a = b\n",
    "        b = r\n",
    "    return a\n",
    "\n",
    "def get_um(m):\n",
    "    Um = []\n",
    "    for i in range (1, m):\n",
    "        if(euclid(i, m)==1):\n",
    "            Um.append(i)\n",
    "    return Um\n",
    "            \n",
    "#############################################\n",
    "m = 15\n",
    "Um = get_um(m)\n",
    "print(Um)"
   ]
  },
  {
   "cell_type": "markdown",
   "id": "40ce6fba-bccf-40fc-a46e-60e4455eb66d",
   "metadata": {},
   "source": [
    "# Cyclic Group Generator"
   ]
  },
  {
   "cell_type": "code",
   "execution_count": 64,
   "id": "271169f4-7ad4-4d37-9598-fbc3be2d2cd0",
   "metadata": {},
   "outputs": [
    {
     "name": "stdout",
     "output_type": "stream",
     "text": [
      "2^2 mod 29, 2^3 mod 29, 2^4 mod 29, 2^5 mod 29, 2^6 mod 29, 2^7 mod 29, 2^8 mod 29, 2^9 mod 29, 2^10 mod 29, 2^11 mod 29, 2^12 mod 29, 2^13 mod 29, 2^14 mod 29, 2^15 mod 29, 2^16 mod 29, 2^17 mod 29, 2^18 mod 29, 2^19 mod 29, 2^20 mod 29, 2^21 mod 29, 2^22 mod 29, 2^23 mod 29, 2^24 mod 29, 2^25 mod 29, 2^26 mod 29, 2^27 mod 29, 2^28 mod 29, 2^29 mod 29, \n",
      "[2, 4, 8, 16, 3, 6, 12, 24, 19, 9, 18, 7, 14, 28, 27, 25, 21, 13, 26, 23, 17, 5, 10, 20, 11, 22, 15, 1]\n",
      "[1, 2, 3, 4, 5, 6, 7, 8, 9, 10, 11, 12, 13, 14, 15, 16, 17, 18, 19, 20, 21, 22, 23, 24, 25, 26, 27, 28]\n"
     ]
    }
   ],
   "source": [
    "def multiplicative_group(g, m):\n",
    "    res = []\n",
    "    exp = 1\n",
    "    new_el = (g ** exp) % m \n",
    "    res_str = \"\"\n",
    "    while(new_el not in res):\n",
    "        exp += 1 \n",
    "        res.append(new_el)\n",
    "        res_str += str(g) + \"^\" + str(exp) + \" mod \" + str(m) + \", \"\n",
    "        new_el = (g ** exp) % m\n",
    "    print(res_str)\n",
    "    print(res)\n",
    "    return res\n",
    "\n",
    "\n",
    "g = multiplicative_group(2, 29)\n",
    "g.sort()\n",
    "print(g)\n",
    "\n",
    "# m = 23\n",
    "# for i in range(1, m):\n",
    "#     g = multiplicative_group(i, m)\n",
    "#     print(len(g))"
   ]
  },
  {
   "cell_type": "markdown",
   "id": "76e1d7eb-4a9e-46b0-ba3d-3cf6bc859d65",
   "metadata": {},
   "source": [
    "# Totient Function"
   ]
  },
  {
   "cell_type": "code",
   "execution_count": 39,
   "id": "378836e8-42f1-4250-86e8-9c5b38b8b388",
   "metadata": {},
   "outputs": [
    {
     "name": "stdout",
     "output_type": "stream",
     "text": [
      "phi(5083) = 4224\n",
      "phi(5083) = 5083 * (1 - 1/13) * (1 - 1/17) * (1 - 1/23) * \n"
     ]
    }
   ],
   "source": [
    "def is_prime(num):\n",
    "    # If given number is greater than 1\n",
    "    if num > 1:\n",
    "        # Iterate from 2 to n / 2\n",
    "        for i in range(2, int(num/2)+1):\n",
    "\n",
    "            # If num is divisible by any number between\n",
    "            # 2 and n / 2, it is not prime\n",
    "            if (num % i) == 0:\n",
    "                return False\n",
    "        else:\n",
    "            return True\n",
    "    else:\n",
    "        return False\n",
    "\n",
    "# gcd of a and b\n",
    "def gcd_fct(a, b):\n",
    "    if (a == 0):\n",
    "        return b\n",
    "    return gcd_fct(b % a, a)\n",
    "\n",
    "# Euler Totient Function\n",
    "def phi(n):\n",
    "    result = 1\n",
    "    for i in range(2, n):\n",
    "        if (gcd_fct(i, n) == 1):\n",
    "            result+=1\n",
    "    return result\n",
    "\n",
    "######################################\n",
    "n = 5083\n",
    "print(\"phi(\"+str(n)+\") = \" + str(phi(n)))\n",
    "\n",
    "phi_res  = \"phi(\"+str(n)+\") = \" + str(n) + \" * \"\n",
    "\n",
    "for i in range(2, n+1):\n",
    "    if(is_prime(i) and n%i == 0):\n",
    "        phi_res = phi_res + \"(1 - \"+ \"1/\" + str(i) + \")\" + \" * \"\n",
    "#         print(str(i) + \" is prime\")\n",
    "\n",
    "print(phi_res)"
   ]
  },
  {
   "cell_type": "markdown",
   "id": "8aa73b2f-bded-41f0-8838-9196e26fe4ef",
   "metadata": {},
   "source": [
    "# Walsh Hadamard\n"
   ]
  },
  {
   "cell_type": "code",
   "execution_count": 73,
   "id": "4125fb00-a2c8-449d-961d-24bdca20ac94",
   "metadata": {},
   "outputs": [
    {
     "name": "stdout",
     "output_type": "stream",
     "text": [
      " (-1)^(1 xor (3 * 0)) + (-1)^(0 xor (3 * 1)) + (-1)^(1 xor (3 * 2)) + (-1)^(1 xor (3 * 3)) + (-1)^(1 xor (3 * 4)) + (-1)^(1 xor (3 * 5)) + (-1)^(1 xor (3 * 6)) + (-1)^(0 xor (3 * 7)) +\n",
      "=\n",
      " (-1)^(1 xor 0) +  (-1)^(0 xor 1) +  (-1)^(1 xor 1) +  (-1)^(1 xor 0) +  (-1)^(1 xor 0) +  (-1)^(1 xor 1) +  (-1)^(1 xor 1) +  (-1)^(0 xor 0) + \n",
      "=\n",
      "-1+-1+1+-1+-1+1+1+1+\n",
      "=\n",
      "0\n"
     ]
    }
   ],
   "source": [
    "# sum((-1)^[f(x) xor a * x])\n",
    "\n",
    "def inner_scalar_product(a, b):\n",
    "    a_and_b = a & b\n",
    "    bits = [int(x) for x in '{:08b}'.format(a_and_b)]\n",
    "    xor = bits[0]\n",
    "    \n",
    "    for i in range(1, len(bits)):\n",
    "        xor = xor ^ bits[i]\n",
    "\n",
    "    return xor\n",
    "\n",
    "def walsh_hadamard(a, truth_table):\n",
    "    res_0 = \"\"\n",
    "    res_1 = \"\"\n",
    "    res_2 = \"\"\n",
    "    Wf_a = 0\n",
    "    for x in range(0, len(truth_table)):\n",
    "        res_0 += \" (-1)^(\" + str(truth_table[x]) + \" xor (\" + str(a) + \" * \" + str(x) + \")) +\"\n",
    "        exp = truth_table[x] ^ inner_scalar_product(a, x)\n",
    "        res_1 += \" (-1)^(\" + str(truth_table[x]) + \" xor \"  + str(inner_scalar_product(a, x)) + \") + \"\n",
    "        Wf_a += (-1) ** exp \n",
    "        res_2 += str((-1) ** exp) + \"+\"\n",
    "    \n",
    "    print(res_0)\n",
    "    print(\"=\")\n",
    "    print(res_1)\n",
    "    print(\"=\")\n",
    "    print(res_2)\n",
    "    print(\"=\")\n",
    "    print(Wf_a)\n",
    "\n",
    "####################################################\n",
    "truth_table = [1,0,1,1,1,1,1,0]\n",
    "# 0101\n",
    "# 0110\n",
    "# 0101\n",
    "# 1001\n",
    "# ]\n",
    "\n",
    "# a = 8\n",
    "# for i in range(a):\n",
    "#     walsh_hadamard(i, truth_table)\n",
    "\n",
    "walsh_hadamard(3, truth_table)"
   ]
  },
  {
   "cell_type": "markdown",
   "id": "b564c518-9951-45e7-bc74-5d3a68319b2d",
   "metadata": {},
   "source": [
    "# Walsh Hadamard (n,m)"
   ]
  },
  {
   "cell_type": "code",
   "execution_count": 8,
   "id": "036a9eb8-2bd1-447b-8f9e-0c07bfb13c03",
   "metadata": {},
   "outputs": [
    {
     "name": "stdout",
     "output_type": "stream",
     "text": [
      " (-1)^(0 * 6 xor (2 * 0)) + (-1)^(0 * 6 xor (2 * 1)) + (-1)^(7 * 6 xor (2 * 2)) + (-1)^(1 * 6 xor (2 * 3)) + (-1)^(3 * 6 xor (2 * 4)) + (-1)^(1 * 6 xor (2 * 5)) + (-1)^(5 * 6 xor (2 * 6)) + (-1)^(0 * 6 xor (2 * 7)) +\n",
      "=\n",
      "1+1+-1+-1+-1+1+1+-1+\n",
      "=\n",
      "0\n"
     ]
    }
   ],
   "source": [
    "def inner_scalar_product(a, b):\n",
    "    a_and_b = a & b\n",
    "    bits = [int(x) for x in '{:08b}'.format(a_and_b)]\n",
    "    xor = bits[0]\n",
    "    \n",
    "    for i in range(1, len(bits)):\n",
    "        xor = xor ^ bits[i]\n",
    "\n",
    "    return xor\n",
    "\n",
    "def inner_xor(a):\n",
    "\n",
    "    bits = [int(x) for x in '{:08b}'.format(a)]\n",
    "    xor = bits[0]\n",
    "    \n",
    "    for i in range(1, len(bits)):\n",
    "        xor = xor ^ bits[i]\n",
    "\n",
    "    return xor\n",
    "\n",
    "def walsh_hadamard(a, v, F):\n",
    "    res_0 = \"\"\n",
    "    res_1 = \"\"\n",
    "    res_2 = \"\"\n",
    "    Wf_a = 0\n",
    "    res = []\n",
    "    for x in range(0, len(F)):\n",
    "        res_0 += \" (-1)^(\" + str(F[x]) + \" * \" + str(v) + \" xor (\" + str(a) + \" * \" + str(x) + \")) +\"\n",
    "        exp = inner_scalar_product(v, F[x]) ^ inner_scalar_product(a, x)\n",
    "#         res_1 += \" (-1)^(\" + str(inner_scalar_product(F[x], v)) + \" xor \"  + str(inner_scalar_product(a, x)) + \") + \"\n",
    "        Wf_a += (-1) ** exp \n",
    "        res_2 += str((-1) ** exp) + \"+\"\n",
    "        res.append(Wf_a)\n",
    "    \n",
    "    print(res_0)\n",
    "#     print(\"=\")\n",
    "#     print(res_1)\n",
    "    print(\"=\")\n",
    "    print(res_2)\n",
    "    print(\"=\")\n",
    "    return Wf_a\n",
    "\n",
    "####################################################\n",
    "F = [0,0,7,1,3,1,5,0]\n",
    "\n",
    "# a = 8\n",
    "# for i in range(a):\n",
    "#     walsh_hadamard(i, truth_table)\n",
    "# WH = [[],[],[],[],[],[],[],[]]\n",
    "# print( [int(i) for i in range(0,8)])\n",
    "# print('-------------------')\n",
    "# for i in range(0, 8):\n",
    "#     res = []\n",
    "#     for j in range(0, 8):\n",
    "#         res.append(walsh_hadamard(j, i, F))\n",
    "#     WH[i] = res\n",
    "#     print(res)\n",
    "# print('-------------------')\n",
    "\n",
    "print(walsh_hadamard(2, 6, F))"
   ]
  },
  {
   "cell_type": "markdown",
   "id": "a1c2d192-d574-48ca-80f2-2865b70bdea2",
   "metadata": {},
   "source": [
    "# Chinese Remainder Theorem"
   ]
  },
  {
   "cell_type": "code",
   "execution_count": 46,
   "id": "b92ea924-7190-4c51-abb8-e509f7ed4c4c",
   "metadata": {},
   "outputs": [
    {
     "name": "stdout",
     "output_type": "stream",
     "text": [
      "a1 = 4; m1 = 9\n",
      "a2 = 3; m2 = 4\n",
      "a3 = 7; m3 = 11\n",
      "M = 396\n",
      "Mi = M / mi \n",
      "yi = inv(M) mod mi \n",
      "M1 = 44; y1 = 8\n",
      "M2 = 99; y2 = 3\n",
      "M3 = 36; y3 = 4\n",
      "x = 4*44*8 + 3*99*3 + 7*36*4 +  mod 396\n",
      "x = 139\n"
     ]
    }
   ],
   "source": [
    "def modInverse(a, m):\n",
    "    for x in range(1, m):\n",
    "        if (((a%m) * (x%m)) % m == 1):\n",
    "            return x\n",
    "    return -1\n",
    "\n",
    "def crt(tuples):\n",
    "    i = 1\n",
    "    M = 1\n",
    "    for t in tuples:\n",
    "        M = M * t[1]\n",
    "        print(\"a\" + str(i)+ \" = \" + str(t[0])+ \";\" + \" m\" + str(i)+ \" = \" + str(t[1]))\n",
    "        i+=1\n",
    "    \n",
    "    i = 1\n",
    "    \n",
    "    print(\"M = \" + str(M))\n",
    "    print(\"Mi = M / mi \")\n",
    "    print(\"yi = inv(M) mod mi \")\n",
    "    \n",
    "    res = \"x = \"\n",
    "    x = 0\n",
    "    for t in tuples:\n",
    "        M_i = int(M/t[1])\n",
    "        y = modInverse(M_i, t[1])\n",
    "        if y < 0:\n",
    "            print(\"y has no inverse\")\n",
    "        \n",
    "        print(\"M\" + str(i)+ \" = \" + str(M_i)+ \";\" + \" y\" + str(i)+ \" = \" + str(y))\n",
    "        x += t[0]*M_i*y\n",
    "        res += str(t[0]) + \"*\" + str(M_i) + \"*\" +str(y) + \" + \"\n",
    "        i+=1\n",
    "        \n",
    "    x = x % M\n",
    "    print(res + \" mod \" + str(M))\n",
    "    print(\"x = \" + str(x))\n",
    "\n",
    "tuples = [(4,9), (3,4), (7, 11)]\n",
    "crt(tuples)"
   ]
  },
  {
   "cell_type": "code",
   "execution_count": 22,
   "id": "8d59fa15-fb60-4581-835b-7e208fca8249",
   "metadata": {},
   "outputs": [
    {
     "name": "stdout",
     "output_type": "stream",
     "text": [
      "0101\n",
      "0110\n",
      "0101\n",
      "1001\n"
     ]
    }
   ],
   "source": [
    "def pi(y):\n",
    "    if y == 0:\n",
    "        return 1\n",
    "    if y == 1:\n",
    "        return 3\n",
    "    if y == 2:\n",
    "        return 5\n",
    "    if y == 3:\n",
    "        return 7\n",
    "\n",
    "def g(y):\n",
    "    if y == 3:\n",
    "        return 1\n",
    "    return 0\n",
    "\n",
    "def f(x, y):\n",
    "    x = x & pi(y) ^ g(y)\n",
    "    bits = [int(x) for x in '{:08b}'.format(x)]\n",
    "    xor = bits[0]\n",
    "    \n",
    "    for i in range(1, len(bits)):\n",
    "        xor = xor ^ bits[i]\n",
    "\n",
    "    return xor\n",
    "\n",
    "for i in range(4):\n",
    "    s = \"\"\n",
    "    for j in range(4):\n",
    "        s +=str(f(j, i))\n",
    "    print(s)"
   ]
  },
  {
   "cell_type": "code",
   "execution_count": null,
   "id": "df879240-eae2-400b-9d9a-761e305bb149",
   "metadata": {},
   "outputs": [],
   "source": [
    "def inner_scalar_product(a, b):\n",
    "    a_and_b = a & b\n",
    "    bits = [int(x) for x in '{:08b}'.format(a_and_b)]\n",
    "    xor = bits[0]\n",
    "    \n",
    "    for i in range(1, len(bits)):\n",
    "        xor = xor ^ bits[i]\n",
    "\n",
    "    return xor\n",
    "\n"
   ]
  },
  {
   "cell_type": "code",
   "execution_count": 70,
   "id": "84a1115d-b5f2-4f3e-a39a-472d4d70d4f0",
   "metadata": {},
   "outputs": [
    {
     "name": "stdout",
     "output_type": "stream",
     "text": [
      "1\n",
      "0\n",
      "1\n",
      "1\n",
      "1\n",
      "1\n",
      "1\n",
      "0\n"
     ]
    }
   ],
   "source": [
    "def inner_scalar_product(a, b):\n",
    "    a_and_b = a & b\n",
    "    bits = [int(x) for x in '{:08b}'.format(a_and_b)]\n",
    "    xor = bits[0]\n",
    "    \n",
    "    for i in range(1, len(bits)):\n",
    "        xor = xor ^ bits[i]\n",
    "\n",
    "    return xor\n",
    "\n",
    "def tr(x):\n",
    "    res = 0\n",
    "    for i in range(0, 3):\n",
    "        res += (x**2)**i\n",
    "    return res\n",
    "        \n",
    "def f(x):\n",
    "    b = 3\n",
    "    d = 2\n",
    "    x = b*x\n",
    "    x = x ** d\n",
    "    return tr(3*x)\n",
    "    \n",
    "for i in range(0, 8):\n",
    "    res = f(i)\n",
    "    bits = [int(x) for x in '{:08b}'.format(res)]\n",
    "    xor = bits[0]\n",
    "    \n",
    "    for i in range(1, len(bits)):\n",
    "        xor = xor ^ bits[i]\n",
    "        \n",
    "    print(xor)\n"
   ]
  },
  {
   "cell_type": "code",
   "execution_count": null,
   "id": "7a3885e4-5d07-4c1e-8b43-e5ec1db6e6d1",
   "metadata": {},
   "outputs": [],
   "source": []
  }
 ],
 "metadata": {
  "kernelspec": {
   "display_name": "Python 3",
   "language": "python",
   "name": "python3"
  },
  "language_info": {
   "codemirror_mode": {
    "name": "ipython",
    "version": 3
   },
   "file_extension": ".py",
   "mimetype": "text/x-python",
   "name": "python",
   "nbconvert_exporter": "python",
   "pygments_lexer": "ipython3",
   "version": "3.8.6"
  }
 },
 "nbformat": 4,
 "nbformat_minor": 5
}
